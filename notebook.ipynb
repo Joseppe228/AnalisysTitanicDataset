{
 "cells": [
  {
   "metadata": {
    "collapsed": true,
    "ExecuteTime": {
     "end_time": "2025-05-15T02:47:14.832855Z",
     "start_time": "2025-05-15T02:47:14.829418Z"
    }
   },
   "cell_type": "code",
   "source": [
    "import pandas as pd\n",
    "from scipy.stats import shapiro, levene, ttest_ind, f_oneway"
   ],
   "id": "initial_id",
   "outputs": [],
   "execution_count": 147
  },
  {
   "metadata": {
    "ExecuteTime": {
     "end_time": "2025-05-15T02:47:14.861308Z",
     "start_time": "2025-05-15T02:47:14.850975Z"
    }
   },
   "cell_type": "code",
   "source": [
    "df = pd.read_csv('titanic-dataset.csv')\n",
    "df = df.dropna(subset=['Age'])"
   ],
   "id": "c00efce9214ad880",
   "outputs": [],
   "execution_count": 148
  },
  {
   "metadata": {
    "ExecuteTime": {
     "end_time": "2025-05-15T02:47:14.908348Z",
     "start_time": "2025-05-15T02:47:14.900126Z"
    }
   },
   "cell_type": "code",
   "source": [
    "groups = {\n",
    "    'Survived_Male': df[(df.Sex == 'male') & (df.Survived == 1)]['Age'],\n",
    "    'Died_Male': df[(df.Sex == 'male') & (df.Survived == 0)]['Age'],\n",
    "    'Survived_Female': df[(df.Sex == 'female') & (df.Survived == 1)]['Age'],\n",
    "    'Died_Female': df[(df.Sex == 'female') & (df.Survived == 0)]['Age'],\n",
    "}\n",
    "\n",
    "for name, ages in groups.items():\n",
    "    print(f\"{name:17s}: {len(ages)}\")"
   ],
   "id": "4f3e6e5428f7f5f1",
   "outputs": [
    {
     "name": "stdout",
     "output_type": "stream",
     "text": [
      "Survived_Male    : 93\n",
      "Died_Male        : 360\n",
      "Survived_Female  : 197\n",
      "Died_Female      : 64\n"
     ]
    }
   ],
   "execution_count": 149
  },
  {
   "metadata": {
    "ExecuteTime": {
     "end_time": "2025-05-15T02:47:15.021741Z",
     "start_time": "2025-05-15T02:47:14.938438Z"
    }
   },
   "cell_type": "code",
   "source": [
    "means = {}\n",
    "n_iter = 300\n",
    "n = 30\n",
    "\n",
    "for name, ages in groups.items():\n",
    "    means[name] = []\n",
    "    for _ in range(n_iter):\n",
    "        sample = ages.sample(n).mean()\n",
    "        means[name].append(sample)"
   ],
   "id": "ae06b402a1cce2cf",
   "outputs": [],
   "execution_count": 150
  },
  {
   "metadata": {
    "ExecuteTime": {
     "end_time": "2025-05-15T02:47:15.044639Z",
     "start_time": "2025-05-15T02:47:15.038897Z"
    }
   },
   "cell_type": "code",
   "source": [
    "normal_flags = {}\n",
    "for _, m in means.items():\n",
    "    print(shapiro(m))"
   ],
   "id": "9e0a8dc6ddf16d4f",
   "outputs": [
    {
     "name": "stdout",
     "output_type": "stream",
     "text": [
      "ShapiroResult(statistic=np.float64(0.996231343312217), pvalue=np.float64(0.6968232609834718))\n",
      "ShapiroResult(statistic=np.float64(0.9933616859694592), pvalue=np.float64(0.20792625722161034))\n",
      "ShapiroResult(statistic=np.float64(0.9958335970609807), pvalue=np.float64(0.6101715741087004))\n",
      "ShapiroResult(statistic=np.float64(0.9944533561081862), pvalue=np.float64(0.34756515873917637))\n"
     ]
    }
   ],
   "execution_count": 151
  },
  {
   "metadata": {
    "ExecuteTime": {
     "end_time": "2025-05-15T03:08:40.883529Z",
     "start_time": "2025-05-15T03:08:40.875073Z"
    }
   },
   "cell_type": "code",
   "source": [
    "sm, sf = groups['Survived_Male'].sample(35), groups['Survived_Female'].sample(70)\n",
    "print(f\"Survived:\\n{levene(sm, sf)}\\n\")\n",
    "dm, df = groups['Died_Male'].sample(100), groups['Died_Female'].sample(20)\n",
    "print(f\"Died:\\n{levene(dm, df)}\\n\")"
   ],
   "id": "d6a31c1d1cf7076b",
   "outputs": [
    {
     "name": "stdout",
     "output_type": "stream",
     "text": [
      "Survived:\n",
      "LeveneResult(statistic=np.float64(0.32114294020629014), pvalue=np.float64(0.5721544257031312))\n",
      "\n",
      "Died:\n",
      "LeveneResult(statistic=np.float64(0.0025712589181464086), pvalue=np.float64(0.9596442702456023))\n",
      "\n"
     ]
    }
   ],
   "execution_count": 165
  },
  {
   "metadata": {
    "ExecuteTime": {
     "end_time": "2025-05-15T03:08:43.808165Z",
     "start_time": "2025-05-15T03:08:43.800559Z"
    }
   },
   "cell_type": "code",
   "source": [
    "print(f_oneway(sm, sf))\n",
    "print(f_oneway(dm, df))"
   ],
   "id": "ef06d6d213530533",
   "outputs": [
    {
     "name": "stdout",
     "output_type": "stream",
     "text": [
      "F_onewayResult(statistic=np.float64(0.0028935818150954196), pvalue=np.float64(0.957205060817593))\n",
      "F_onewayResult(statistic=np.float64(2.44798679370048), pvalue=np.float64(0.1203536407320144))\n"
     ]
    }
   ],
   "execution_count": 166
  }
 ],
 "metadata": {
  "kernelspec": {
   "display_name": "Python 3",
   "language": "python",
   "name": "python3"
  },
  "language_info": {
   "codemirror_mode": {
    "name": "ipython",
    "version": 2
   },
   "file_extension": ".py",
   "mimetype": "text/x-python",
   "name": "python",
   "nbconvert_exporter": "python",
   "pygments_lexer": "ipython2",
   "version": "2.7.6"
  }
 },
 "nbformat": 4,
 "nbformat_minor": 5
}
